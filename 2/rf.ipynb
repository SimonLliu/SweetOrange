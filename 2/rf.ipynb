{
 "cells": [
  {
   "cell_type": "code",
   "execution_count": 9,
   "metadata": {},
   "outputs": [
    {
     "name": "stderr",
     "output_type": "stream",
     "text": [
      "C:\\Users\\Simon\\Anaconda3\\lib\\site-packages\\sklearn\\ensemble\\weight_boosting.py:29: DeprecationWarning: numpy.core.umath_tests is an internal NumPy module and should not be imported. It will be removed in a future NumPy release.\n",
      "  from numpy.core.umath_tests import inner1d\n"
     ]
    }
   ],
   "source": [
    "import pandas as pd\n",
    "import numpy as np\n",
    "#from sklearn import svm\n",
    "from sklearn import ensemble\n",
    "#from sklearn.calibration import CalibratedClassifierCV\n",
    "from sklearn.model_selection import StratifiedKFold"
   ]
  },
  {
   "cell_type": "code",
   "execution_count": 2,
   "metadata": {},
   "outputs": [
    {
     "name": "stderr",
     "output_type": "stream",
     "text": [
      "C:\\Users\\Simon\\Anaconda3\\lib\\site-packages\\IPython\\core\\interactiveshell.py:2785: DtypeWarning: Columns (8) have mixed types. Specify dtype option on import or set low_memory=False.\n",
      "  interactivity=interactivity, compiler=compiler, result=result)\n"
     ]
    }
   ],
   "source": [
    "def tpr_weight_funtion(y_true,y_predict):\n",
    "    d = pd.DataFrame()\n",
    "    d['prob'] = list(y_predict)\n",
    "    d['y'] = list(y_true)\n",
    "    d = d.sort_values(['prob'], ascending=[0])\n",
    "    y = d.y\n",
    "    PosAll = pd.Series(y).value_counts()[1]\n",
    "    NegAll = pd.Series(y).value_counts()[0]\n",
    "    pCumsum = d['y'].cumsum()\n",
    "    nCumsum = np.arange(len(y)) - pCumsum + 1\n",
    "    pCumsumPer = pCumsum / PosAll\n",
    "    nCumsumPer = nCumsum / NegAll\n",
    "    TR1 = pCumsumPer[abs(nCumsumPer-0.001).idxmin()]\n",
    "    TR2 = pCumsumPer[abs(nCumsumPer-0.005).idxmin()]\n",
    "    TR3 = pCumsumPer[abs(nCumsumPer-0.01).idxmin()]\n",
    "    return 'TC_AUC',0.4 * TR1 + 0.3 * TR2 + 0.3 * TR3,True\n",
    "\n",
    "\"\"\"=====================================================================================================================\n",
    "1 读取数据\n",
    "\"\"\"\n",
    "path = \"E:/data2/\"\n",
    "op_train = pd.read_csv(path+\"operation_train_new.csv\")\n",
    "trans_train = pd.read_csv(path+\"transaction_train_new.csv\")\n",
    "\n",
    "op_test = pd.read_csv(path+\"operation_round1_new.csv\")\n",
    "trans_test = pd.read_csv(path+\"transaction_round1_new.csv\")\n",
    "y = pd.read_csv(path+\"tag_train_new.csv\")\n",
    "\n",
    "sub = pd.read_csv(path+\"sub.csv\")\n",
    "\n",
    "\n",
    "def get_feature(op,trans,label): # 分别读取operation, transaction, y\n",
    "    for feature in op.columns[2:]:\n",
    "        label = label.merge(op.groupby(['UID'])[feature].count().reset_index(),on='UID',how='left')#先把y附加进dataframe, 对UID进行分组，分别统计各个UID出现的数量\n",
    "        label =label.merge(op.groupby(['UID'])[feature].nunique().reset_index(),on='UID',how='left')#对UID进行分组，分别统计各个UID的不唯一的数量\n",
    "    \n",
    "    for feature in trans.columns[2:]:\n",
    "        if trans_train[feature].dtype == 'object':# 判断是否是可以统计的属性\n",
    "            label =label.merge(trans.groupby(['UID'])[feature].count().reset_index(),on='UID',how='left')\n",
    "            label =label.merge(trans.groupby(['UID'])[feature].nunique().reset_index(),on='UID',how='left')\n",
    "        else:\n",
    "            label =label.merge(trans.groupby(['UID'])[feature].count().reset_index(),on='UID',how='left')\n",
    "            label =label.merge(trans.groupby(['UID'])[feature].nunique().reset_index(),on='UID',how='left')\n",
    "            label =label.merge(trans.groupby(['UID'])[feature].max().reset_index(),on='UID',how='left') #附加每个属性最大的\n",
    "            label =label.merge(trans.groupby(['UID'])[feature].min().reset_index(),on='UID',how='left')#附加每个属性最小的\n",
    "            label =label.merge(trans.groupby(['UID'])[feature].sum().reset_index(),on='UID',how='left')#附加求和\n",
    "            label =label.merge(trans.groupby(['UID'])[feature].mean().reset_index(),on='UID',how='left')#附加均值\n",
    "            label =label.merge(trans.groupby(['UID'])[feature].std().reset_index(),on='UID',how='left')#附加方差\n",
    "    return label"
   ]
  },
  {
   "cell_type": "code",
   "execution_count": 14,
   "metadata": {},
   "outputs": [
    {
     "name": "stdout",
     "output_type": "stream",
     "text": [
      "0\n",
      "1\n",
      "2\n",
      "3\n",
      "4\n",
      "0.7244340723453908\n"
     ]
    }
   ],
   "source": [
    "train = get_feature(op_train,trans_train,y).fillna(-1)#用-1填充空格\n",
    "test = get_feature(op_test,trans_test,sub).fillna(-1)\n",
    "\n",
    "train = train.drop(['UID','Tag'],axis = 1).fillna(-1)\n",
    "label = y['Tag']\n",
    "\n",
    "test_id = test['UID']\n",
    "test = test.drop(['UID','Tag'],axis = 1).fillna(-1)\n",
    "\n",
    "skf = StratifiedKFold(n_splits=5, random_state=2018, shuffle=True)##5折价交差验证\n",
    "\n",
    "oof_preds = np.zeros(train.shape[0])#做一个与训练集形状相同的矩阵\n",
    "sub_preds = np.zeros(test_id.shape[0])#做一个与测试集Id形状相同的矩阵\n",
    "\n",
    "    \n"
   ]
  },
  {
   "cell_type": "code",
   "execution_count": 19,
   "metadata": {},
   "outputs": [
    {
     "name": "stdout",
     "output_type": "stream",
     "text": [
      "0\n",
      "1\n",
      "2\n",
      "3\n",
      "4\n",
      "0.7219136522753792\n"
     ]
    }
   ],
   "source": [
    "for index, (train_index, test_index) in enumerate(skf.split(train, label)):#用5折交叉验证切分train 和 label, 用enumerate给每一组数据加一个索引\n",
    "    print(index)\n",
    "    iTrees=50\n",
    "    depth = None\n",
    "    maxFeat  = 20 #try tweaking\n",
    "    attackRFModel = ensemble.RandomForestClassifier(n_estimators=iTrees, max_depth=depth, max_features=maxFeat,\n",
    "                                                 oob_score=False, random_state=531)\n",
    "    attackRFModel.fit(train.iloc[train_index], label.iloc[train_index])\n",
    "    oof_preds[test_index] = attackRFModel.predict_proba(train.iloc[test_index])[:,1]\n",
    "\n",
    "    test_pred = attackRFModel.predict_proba(test)[:, 1]#取预测记过的第二列（预测为黑样本的概率）\n",
    "    sub_preds += test_pred / 5 #5折交叉，每次取1/5\n",
    "m = tpr_weight_funtion(y_predict=oof_preds,y_true=label)\n",
    "print(m[1])\n",
    "sub = pd.read_csv(path+\"sub.csv\")\n",
    "sub['Tag'] = sub_preds\n",
    "sub.to_csv(path+\"rf_baseline_%s.csv\"%str(m),index=False)"
   ]
  },
  {
   "cell_type": "code",
   "execution_count": null,
   "metadata": {},
   "outputs": [],
   "source": []
  }
 ],
 "metadata": {
  "kernelspec": {
   "display_name": "Python 3",
   "language": "python",
   "name": "python3"
  },
  "language_info": {
   "codemirror_mode": {
    "name": "ipython",
    "version": 3
   },
   "file_extension": ".py",
   "mimetype": "text/x-python",
   "name": "python",
   "nbconvert_exporter": "python",
   "pygments_lexer": "ipython3",
   "version": "3.6.5"
  }
 },
 "nbformat": 4,
 "nbformat_minor": 2
}
